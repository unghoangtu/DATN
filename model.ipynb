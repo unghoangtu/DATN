{
 "cells": [
  {
   "cell_type": "code",
   "execution_count": 1,
   "metadata": {},
   "outputs": [],
   "source": [
    "import numpy as np\n",
    "import cv2\n",
    "from sklearn.cluster import KMeans\n",
    "import matplotlib.pyplot as plt"
   ]
  },
  {
   "cell_type": "code",
   "execution_count": 2,
   "metadata": {},
   "outputs": [],
   "source": [
    "def spatial_histogram(src, m):\n",
    "\theight, width = src.shape\n",
    "\t# Take size of block;\n",
    "\th_blocks = int(height / m)\n",
    "\tw_blocks = int(width / m)\n",
    "\tH = np.zeros((m, m))\n",
    "\tfor i in range(m):\n",
    "\t\tfor j in range(m):\n",
    "\t\t\tH[i, j] = np.sum(src[(i * h_blocks):((i + 1) * h_blocks - 1), (j * w_blocks):((j + 1) * w_blocks - 1)])\n",
    "\treturn H"
   ]
  },
  {
   "cell_type": "code",
   "execution_count": 3,
   "metadata": {},
   "outputs": [],
   "source": [
    "file_path = \"dataset/video1.mp4\"\n",
    "cap = cv2.VideoCapture(file_path)\n",
    "\n",
    "fps = cap.get(cv2.CAP_PROP_FPS)\n",
    "frameCount = int(cap.get(cv2.CAP_PROP_FRAME_COUNT))\n",
    "# duration = int(frameCount / fps)\n",
    "# print('fps = ' + str(fps))\n",
    "# print('number of frames = ' + str(frameCount))\n",
    "# print('duration (S) = ' + str(duration))\n"
   ]
  },
  {
   "cell_type": "code",
   "execution_count": 4,
   "metadata": {},
   "outputs": [],
   "source": [
    "# Take the first frame and convert it to gray\n",
    "ret, frame1 = cap.read()\n",
    "gray = cv2.cvtColor(frame1, cv2.COLOR_BGR2GRAY)\n",
    "\n",
    "# Create the HSV color image\n",
    "hsvImg = np.zeros_like(frame1)\n",
    "# print(hsvImg.shape)\n",
    "hsvImg[..., 1] = 255\n",
    "data = []"
   ]
  },
  {
   "cell_type": "code",
   "execution_count": 5,
   "metadata": {},
   "outputs": [],
   "source": [
    "while True:\n",
    "\t# Save the previous frame data\n",
    "\tpreviousGray = gray\n",
    "\t\n",
    "\t# Get the next frame\n",
    "\tret, frame2 = cap.read()\n",
    "\tif ret:\n",
    "\t\t# Convert the frame to gray scale\n",
    "\t\tgray = cv2.cvtColor(frame2, cv2.COLOR_BGR2GRAY)\n",
    "\t\t\n",
    "\t\t# Calculate the dense optical flow\n",
    "\t\tflow = cv2.calcOpticalFlowFarneback(previousGray, gray, None, 0.5, 3, 15, 3, 5, 1.2, 0)\n",
    "\t\t\n",
    "\t\t# Obtain the flow magnitude and direction angle\n",
    "\t\tmagnitude, direction_angle = cv2.cartToPolar(flow[..., 0], flow[..., 1])\n",
    "# \t\tmagnitude = magnitude / np.max(magnitude)\n",
    "\t\tH = spatial_histogram(magnitude, 10)\n",
    "\t\tH = H.ravel()\n",
    "\t\tdata.append(H)\n",
    "\t# Update the color image\n",
    "\t# hsvImg[..., 0] = 0.5 * direction_angle * 180 / np.pi\n",
    "\t# hsvImg[..., 2] = cv2.normalize(magnitude, None, 0, 255, cv2.NORM_MINMAX)\n",
    "\t# rgbImg = cv2.cvtColor(hsvImg, cv2.COLOR_HSV2BGR)\n",
    "\t\n",
    "\t# Display the resulting frame\n",
    "\t# imS = cv2.resize(np.hstack((frame2, rgbImg)), (960, 540))\n",
    "\t# plt.imshow(H)\n",
    "\t# plt.imshow(imS)\n",
    "\t# plt.show()\n",
    "\t\n",
    "\t# Exit if the user press ESC\n",
    "\tif cv2.waitKey(1) and ret == False:\n",
    "\t\tbreak\n",
    "\n",
    "# When everything is done, release the capture and close all windows\n",
    "cap.release()\n",
    "cv2.destroyAllWindows()"
   ]
  },
  {
   "cell_type": "code",
   "execution_count": 6,
   "metadata": {},
   "outputs": [],
   "source": [
    "# import scipy.io\n",
    "# scipy.io.savemat('magnitude_matrix.mat', mdict={'magnitude_matrix': magnitude_matrix})\n",
    "# scipy.io.savemat('direction_angle_matrix.mat', mdict={'direction_angle_matrix': direction_angle_matrix})"
   ]
  },
  {
   "cell_type": "code",
   "execution_count": 7,
   "metadata": {},
   "outputs": [],
   "source": [
    "nan_check = np.isinf(data)\n",
    "x, y = np.where(nan_check == True)"
   ]
  },
  {
   "cell_type": "code",
   "execution_count": 8,
   "metadata": {},
   "outputs": [],
   "source": [
    "for item in data:\n",
    "    for i in item:\n",
    "        if np.isinf(i) == True:\n",
    "            i = 0"
   ]
  },
  {
   "cell_type": "code",
   "execution_count": 9,
   "metadata": {},
   "outputs": [],
   "source": [
    "K = 250\n",
    "kmeans = KMeans(n_clusters=K, random_state=0).fit(data)\n",
    "center = kmeans.cluster_centers_\n",
    "np.savetxt('Kmeans_cluster_centers.txt', kmeans.cluster_centers_, delimiter=',')\n",
    "center = np.float32(center)\n",
    "predict_kmean = kmeans.predict(data)"
   ]
  },
  {
   "cell_type": "code",
   "execution_count": 10,
   "metadata": {},
   "outputs": [],
   "source": [
    "import math\n",
    "overlap_frame = 20\n",
    "frame_per_segment = 80\n",
    "start_frame = 0\n",
    "\n",
    "N = math.ceil((frameCount - overlap_frame)/(frame_per_segment - overlap_frame))\n",
    "C = np.zeros(shape=(N,K))\n",
    "segment_part=[]\n",
    "\n",
    "for j in range(0,N):\n",
    "    stop_frame = start_frame + frame_per_segment - 1\n",
    "    for i in range(start_frame, stop_frame):\n",
    "        cap.read()\n",
    "        x = int(predict_kmean[i])\n",
    "        C[j,x] = 1\n",
    "        if frameCount < stop_frame:\n",
    "            stop_frame = frameCount-1\n",
    "            break\n",
    "    segment_part.append([start_frame,stop_frame])\n",
    "    start_frame = stop_frame - overlap_frame\n",
    "    cap.set(cv2.CAP_PROP_FRAME_COUNT,start_frame)\n",
    "    cap.set(cv2.CAP_PROP_FRAME_COUNT,start_frame)"
   ]
  },
  {
   "cell_type": "code",
   "execution_count": 11,
   "metadata": {},
   "outputs": [],
   "source": [
    "# Show prototype thu i\n",
    "# k = np.reshape(center[339,:], (10,10))\n",
    "# plt.imshow(k)\n",
    "# plt.show()"
   ]
  },
  {
   "cell_type": "code",
   "execution_count": 12,
   "metadata": {},
   "outputs": [],
   "source": [
    "# np.where(predict_kmean == 339)"
   ]
  },
  {
   "cell_type": "code",
   "execution_count": 13,
   "metadata": {},
   "outputs": [],
   "source": [
    "#calculate pi-pj chi-square: S /not symetics\n",
    "from scipy.stats import chisquare\n",
    "S = np.zeros(shape=(K,K))\n",
    "for i in range(K):\n",
    "    for j in range(K):\n",
    "#         S[i,j] = (cv2.compareHist(np.reshape(center[i],(10,10)), np.reshape(center[j],(10,10)),cv2.HISTCMP_CHISQR) + \n",
    "#                 cv2.compareHist(np.reshape(center[j],(10,10)), np.reshape(center[i],(10,10)),cv2.HISTCMP_CHISQR))/2\n",
    "        S[i,j] = (chisquare(center[i],center[j])[0] + chisquare(center[j],center[i])[0])/2"
   ]
  },
  {
   "cell_type": "code",
   "execution_count": 14,
   "metadata": {},
   "outputs": [
    {
     "data": {
      "image/png": "[encoded data removed]",
      "text/plain": [
       "<Figure size 432x288 with 1 Axes>"
      ]
     },
     "metadata": {
      "needs_background": "light"
     },
     "output_type": "display_data"
    },
    {
     "name": "stdout",
     "output_type": "stream",
     "text": [
      "0.0\n",
      "35853283328.0\n"
     ]
    }
   ],
   "source": [
    "#Calculate matrix W:\n",
    "Snorm = np.uint8(S)\n",
    "belta = 1/np.max(S)\n",
    "# Snorm = np.float32(S)\n",
    "W = np.eye(N, dtype = float)\n",
    "C_T = C.transpose()\n",
    "W = np.append(W,C,axis=1)\n",
    "W = np.append(W,np.append(C_T,belta*S,axis=1),axis=0)\n",
    "\n",
    "plt.imshow(S)\n",
    "plt.show()\n",
    "# print(np.max(W))\n",
    "# print(np.min(W))\n",
    "print(np.min(S))\n",
    "print(np.max(S))"
   ]
  },
  {
   "cell_type": "code",
   "execution_count": 15,
   "metadata": {},
   "outputs": [
    {
     "data": {
      "image/png": "[encoded data removed]",
      "text/plain": [
       "<Figure size 432x288 with 1 Axes>"
      ]
     },
     "metadata": {
      "needs_background": "light"
     },
     "output_type": "display_data"
    }
   ],
   "source": [
    "#plot C:\n",
    "plt.imshow(C)\n",
    "plt.show()"
   ]
  },
  {
   "cell_type": "code",
   "execution_count": 16,
   "metadata": {},
   "outputs": [
    {
     "data": {
      "image/png": "[encoded data removed]",
      "text/plain": [
       "<Figure size 432x288 with 1 Axes>"
      ]
     },
     "metadata": {
      "needs_background": "light"
     },
     "output_type": "display_data"
    }
   ],
   "source": [
    "plt.imshow(W)\n",
    "plt.show()\n",
    "np.savetxt('W.txt', W, delimiter=',')"
   ]
  },
  {
   "cell_type": "code",
   "execution_count": 17,
   "metadata": {},
   "outputs": [],
   "source": [
    "#Solve optimaize problem:\n",
    "def diagonal_matrix(matrix):\n",
    "    diagonal = np.zeros(shape=(N+K,N+K))\n",
    "    row,col = matrix.shape\n",
    "    for i in range(row):\n",
    "        diagonal[i,i] = sum(matrix[:,i])\n",
    "    \n",
    "    return diagonal\n",
    "D = diagonal_matrix(W)\n"
   ]
  },
  {
   "cell_type": "code",
   "execution_count": 18,
   "metadata": {},
   "outputs": [],
   "source": [
    "lamda, eig_vector = np.linalg.eigh((D-W).dot(np.linalg.inv(D)))"
   ]
  },
  {
   "cell_type": "code",
   "execution_count": 19,
   "metadata": {},
   "outputs": [
    {
     "data": {
      "image/png": "[encoded data removed]",
      "text/plain": [
       "<Figure size 432x288 with 1 Axes>"
      ]
     },
     "metadata": {
      "needs_background": "light"
     },
     "output_type": "display_data"
    }
   ],
   "source": [
    "x = eig_vector[:,1]\n",
    "plt.scatter(x,np.zeros(K+N)+10)\n",
    "plt.show()"
   ]
  },
  {
   "cell_type": "code",
   "execution_count": 29,
   "metadata": {},
   "outputs": [
    {
     "data": {
      "text/plain": [
       "array([[0.01417255],\n",
       "       [0.13820437]])"
      ]
     },
     "execution_count": 29,
     "metadata": {},
     "output_type": "execute_result"
    }
   ],
   "source": [
    "kmean2 = KMeans(n_clusters=2, random_state=0).fit(x.reshape(-1,1))\n",
    "center2 = kmean2.cluster_centers_\n",
    "center2"
   ]
  },
  {
   "cell_type": "code",
   "execution_count": 30,
   "metadata": {},
   "outputs": [],
   "source": [
    "# Inter-cluster distance matrix\n",
    "from sklearn.metrics.pairwise import euclidean_distances\n",
    "dists = euclidean_distances(kmean2.cluster_centers_)\n",
    "total = np.sum(dists,axis=0) #total of inter-cluster distance\n",
    "abnormal_cluster = np.argmax(total)\n",
    "# abnormal_cluster = 0"
   ]
  },
  {
   "cell_type": "code",
   "execution_count": 31,
   "metadata": {},
   "outputs": [],
   "source": [
    "#Show the predict abnormal frame\n",
    "labels_segment = kmean2.predict(x.reshape(-1,1))[:N]\n",
    "idx = [i for i, j in enumerate(labels_segment) if j == abnormal_cluster]\n",
    "segment_abnormal = []\n",
    "for i in idx:\n",
    "    segment_abnormal.append(segment_part[i])\n",
    "\n",
    "predict = np.zeros(shape=frameCount)\n",
    "for i in range(frameCount):\n",
    "    for j in range(len(idx)):\n",
    "        if segment_abnormal[j][0] <= i and i <= segment_abnormal[j][1]:\n",
    "            predict[i] = 1\n",
    "frame_abnormal = np.asarray([i for i, j in enumerate(predict) if j == 1])"
   ]
  },
  {
   "cell_type": "code",
   "execution_count": 32,
   "metadata": {},
   "outputs": [
    {
     "data": {
      "text/plain": [
       "array([1., 1., 1., ..., 1., 1., 1.])"
      ]
     },
     "execution_count": 32,
     "metadata": {},
     "output_type": "execute_result"
    }
   ],
   "source": [
    "predict"
   ]
  },
  {
   "cell_type": "code",
   "execution_count": 33,
   "metadata": {},
   "outputs": [],
   "source": [
    "#Show the grouth truth\n",
    "box_ground = [[500,600],[1305,1432]]\n",
    "ground_truth = np.zeros(shape=frameCount)\n",
    "for i in range(frameCount):\n",
    "#     if (325<=i and i<=473) :\n",
    "    if (500<=i and i<=600) or (1305<=i and i<=1432):\n",
    "        ground_truth[i] = 1"
   ]
  },
  {
   "cell_type": "code",
   "execution_count": 34,
   "metadata": {},
   "outputs": [
    {
     "data": {
      "image/png": "[encoded data removed]",
      "text/plain": [
       "<Figure size 432x288 with 1 Axes>"
      ]
     },
     "metadata": {
      "needs_background": "light"
     },
     "output_type": "display_data"
    }
   ],
   "source": [
    "#show the result frame\n",
    "num_frame = [i for i in range(frameCount)]\n",
    "\n",
    "fig, ax = plt.subplots()\n",
    "ax.plot(num_frame, predict, label=\"PREDICT\")\n",
    "ax.plot(num_frame, ground_truth, label=\"GROUND_TRUTH\")\n",
    "ax.legend()\n",
    "\n",
    "plt.show()"
   ]
  },
  {
   "cell_type": "code",
   "execution_count": 26,
   "metadata": {},
   "outputs": [],
   "source": [
    "# cap = cv2.VideoCapture(file_path)\n",
    "# frame_width = int(cap.get(3))\n",
    "# frame_height = int(cap.get(4))\n",
    "# out = cv2.VideoWriter('abnormal_video.avi',cv2.VideoWriter_fourcc('M','J','P','G'), 10, (frame_width,frame_height))\n",
    "# i = 0\n",
    "# while(True):\n",
    "#     ret, frame = cap.read()\n",
    "    \n",
    "#     if ret == True: \n",
    "#         if predict[i] == 1:\n",
    "#             # Write the frame into the file 'output.avi'\n",
    "#             out.write(frame)\n",
    "#         # Display the resulting frame    \n",
    "#         cv2.imshow('frame',frame)\n",
    "        \n",
    "#     i = i+1\n",
    " \n",
    "#     # Press Q on keyboard to stop recording\n",
    "#     if cv2.waitKey(1) & 0xFF == ord('q'):\n",
    "#         break\n",
    "#     # Break the loop\n",
    "#     else:\n",
    "#         break \n",
    "\n",
    "# #When everything done, release the video capture and video write objects\n",
    "# cap.release()\n",
    "# out.release()\n",
    " \n",
    "# # Closes all the frames\n",
    "# cv2.destroyAllWindows() "
   ]
  },
  {
   "cell_type": "code",
   "execution_count": 27,
   "metadata": {},
   "outputs": [],
   "source": [
    "# import pandas as pd\n",
    "# def get_iou_vector(A, B, n):\n",
    "#     intersection = np.logical_and(A, B)\n",
    "#     union = np.logical_or(A, B)\n",
    "#     iou = np.sum(intersection > 0) / np.sum(union > 0)\n",
    "#     print(iou)\n",
    "#     s = pd.Series(name=n)\n",
    "#     for thresh in np.arange(0.5,1,0.05):\n",
    "#         s[thresh] = iou > thresh\n",
    "#     return s\n",
    "\n",
    "# print('Does this IoU hit at each threshold?')\n",
    "# print(get_iou_vector(predict, ground_truth, 'GT-P'))"
   ]
  },
  {
   "cell_type": "code",
   "execution_count": 28,
   "metadata": {},
   "outputs": [
    {
     "ename": "IndexError",
     "evalue": "index 0 is out of bounds for axis 0 with size 0",
     "output_type": "error",
     "traceback": [
      "\u001b[1;31m---------------------------------------------------------------------------\u001b[0m",
      "\u001b[1;31mIndexError\u001b[0m                                Traceback (most recent call last)",
      "\u001b[1;32m<ipython-input-28-259af145ef39>\u001b[0m in \u001b[0;36m<module>\u001b[1;34m\u001b[0m\n\u001b[0;32m      1\u001b[0m \u001b[0mbox_predict\u001b[0m \u001b[1;33m=\u001b[0m \u001b[1;33m[\u001b[0m\u001b[1;33m]\u001b[0m\u001b[1;33m\u001b[0m\u001b[1;33m\u001b[0m\u001b[0m\n\u001b[0;32m      2\u001b[0m \u001b[0mj\u001b[0m \u001b[1;33m=\u001b[0m \u001b[1;36m0\u001b[0m\u001b[1;33m\u001b[0m\u001b[1;33m\u001b[0m\u001b[0m\n\u001b[1;32m----> 3\u001b[1;33m \u001b[0mleft\u001b[0m \u001b[1;33m=\u001b[0m \u001b[0mframe_abnormal\u001b[0m\u001b[1;33m[\u001b[0m\u001b[0mj\u001b[0m\u001b[1;33m]\u001b[0m\u001b[1;33m\u001b[0m\u001b[1;33m\u001b[0m\u001b[0m\n\u001b[0m\u001b[0;32m      4\u001b[0m \u001b[1;32mwhile\u001b[0m \u001b[1;32mTrue\u001b[0m\u001b[1;33m:\u001b[0m\u001b[1;33m\u001b[0m\u001b[1;33m\u001b[0m\u001b[0m\n\u001b[0;32m      5\u001b[0m     \u001b[1;32mif\u001b[0m \u001b[0mframe_abnormal\u001b[0m\u001b[1;33m[\u001b[0m\u001b[0mj\u001b[0m\u001b[1;33m+\u001b[0m\u001b[1;36m1\u001b[0m\u001b[1;33m]\u001b[0m \u001b[1;33m-\u001b[0m \u001b[0mframe_abnormal\u001b[0m\u001b[1;33m[\u001b[0m\u001b[0mj\u001b[0m\u001b[1;33m]\u001b[0m \u001b[1;33m!=\u001b[0m \u001b[1;36m1\u001b[0m\u001b[1;33m:\u001b[0m\u001b[1;33m\u001b[0m\u001b[1;33m\u001b[0m\u001b[0m\n",
      "\u001b[1;31mIndexError\u001b[0m: index 0 is out of bounds for axis 0 with size 0"
     ]
    }
   ],
   "source": [
    "box_predict = []\n",
    "j = 0\n",
    "left = frame_abnormal[j]\n",
    "while True:\n",
    "    if frame_abnormal[j+1] - frame_abnormal[j] != 1:\n",
    "        right = frame_abnormal[j]\n",
    "        box_predict.append([left,right])\n",
    "        left = frame_abnormal[j+1]\n",
    "    j = j + 1\n",
    "    if j == (len(frame_abnormal) - 1):\n",
    "        right = frame_abnormal[j]\n",
    "        box_predict.append([left,right])\n",
    "        break"
   ]
  },
  {
   "cell_type": "code",
   "execution_count": null,
   "metadata": {},
   "outputs": [],
   "source": [
    "def box_iou(pred,ground,num_pred,num_ground):\n",
    "\n",
    "    pred_left = pred[num_pred][0]\n",
    "    pred_right = pred[num_pred][1]\n",
    "    ground_left = ground[num_ground][0]\n",
    "    ground_right = ground[num_ground][1]\n",
    "    \n",
    "    edge_left = np.min([pred_left,pred_right,ground_left,ground_right]) #0\n",
    "    edge_right = np.max([pred_left,pred_right,ground_left,ground_right]) #600\n",
    "    \n",
    "    pred_list = np.zeros(shape=frameCount)\n",
    "    ground_list = np.zeros(shape=frameCount)\n",
    "    \n",
    "    for y in range(len(pred_list)):\n",
    "        if pred_left <= y and y <= pred_right:\n",
    "            pred_list[y] = 1 # 0->475: 1\n",
    "        elif ground_left <= y and y <= ground_right:\n",
    "            ground_list[y] = 1 #500 -> 600 : 1\n",
    "    \n",
    "    intersection = np.logical_and(pred_list,ground_list).sum() #25\n",
    "    union = edge_right - edge_left + 1 - intersection\n",
    "    iou = intersection/union\n",
    "    \n",
    "    return iou"
   ]
  },
  {
   "cell_type": "code",
   "execution_count": null,
   "metadata": {},
   "outputs": [],
   "source": [
    "iou_pred = []\n",
    "for i in range(len(box_predict)):\n",
    "    iou_all = []\n",
    "    for j in range(len(box_ground)):\n",
    "        iou_all.append(box_iou(box_predict,box_ground,i,j))\n",
    "    iou_pred.append(np.max(iou_all))"
   ]
  },
  {
   "cell_type": "code",
   "execution_count": null,
   "metadata": {},
   "outputs": [],
   "source": [
    "frame_width = int(cap.get(3))\n",
    "frame_height = int(cap.get(4))\n",
    "out = cv2.VideoWriter('result.avi',cv2.VideoWriter_fourcc('M','J','P','G'), 10, (frame_width,frame_height))\n",
    "i = 0\n",
    "while(cap.isOpened()):\n",
    "    ret, frame = cap.read()\n",
    "    if ret == True:\n",
    "        if predict[i] == 1:\n",
    "            cv2.putText(frame,'Abnormal activity',(10,220),cv2.FONT_HERSHEY_SIMPLEX, 1, (255, 255, 255), 1, cv2.LINE_8, False)\n",
    "        out.write(frame)\n",
    "        cv2.imshow('Frame',frame)\n",
    "        if cv2.waitKey(25) & 0xFF == ord('q'):\n",
    "            break\n",
    "        i = i + 1\n",
    "    else:\n",
    "        break\n",
    "\n",
    "cap.release()\n",
    "out.release()\n",
    "cv2.destroyAllWindows()"
   ]
  },
  {
   "cell_type": "code",
   "execution_count": null,
   "metadata": {},
   "outputs": [],
   "source": [
    "frameCount = 361\n",
    "a = np.zeros(shape=frameCount)\n",
    "b = np.zeros(shape=frameCount)\n",
    "for i in range(frameCount):\n",
    "#     if (325<=i and i<=473) :\n",
    "    if (500<=i and i<=600) or (1305<=i and i<=1432):\n",
    "        a[i] = 1\n",
    "        \n",
    "for i in range(frameCount):\n",
    "#     if (325<=i and i<=473) :\n",
    "    if (45<=i and i<=132):\n",
    "        b[i] = 1\n",
    "\n",
    "#show the result frame\n",
    "num_frame = [i for i in range(frameCount)]\n",
    "\n",
    "fig, ax = plt.subplots()\n",
    "ax.plot(num_frame, a, label=\"PREDICT\")\n",
    "ax.plot(num_frame, b, label=\"GROUND_TRUTH\")\n",
    "ax.legend()\n",
    "\n",
    "plt.show()"
   ]
  },
  {
   "cell_type": "code",
   "execution_count": null,
   "metadata": {},
   "outputs": [],
   "source": []
  }
 ],
 "metadata": {
  "kernelspec": {
   "display_name": "Python 3",
   "language": "python",
   "name": "python3"
  },
  "language_info": {
   "codemirror_mode": {
    "name": "ipython",
    "version": 3
   },
   "file_extension": ".py",
   "mimetype": "text/x-python",
   "name": "python",
   "nbconvert_exporter": "python",
   "pygments_lexer": "ipython3",
   "version": "3.7.3"
  }
 },
 "nbformat": 4,
 "nbformat_minor": 1
}
